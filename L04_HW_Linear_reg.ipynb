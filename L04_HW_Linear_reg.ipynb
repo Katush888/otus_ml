{
 "cells": [
  {
   "cell_type": "code",
   "execution_count": 561,
   "metadata": {},
   "outputs": [],
   "source": [
    "import pandas as pd\n",
    "import numpy as np\n",
    "import matplotlib.pyplot as plt\n",
    "import seaborn as sns\n",
    "%matplotlib inline\n",
    "import warnings\n",
    "warnings.simplefilter(\"ignore\")\n",
    "\n",
    "from sklearn.preprocessing import StandardScaler, MinMaxScaler\n",
    "from sklearn.model_selection import train_test_split\n",
    "from sklearn.linear_model import LinearRegression, RidgeCV, LassoCV, ElasticNetCV\n",
    "from sklearn import metrics"
   ]
  },
  {
   "cell_type": "markdown",
   "metadata": {},
   "source": [
    "## Preprocessing"
   ]
  },
  {
   "cell_type": "code",
   "execution_count": 640,
   "metadata": {},
   "outputs": [],
   "source": [
    "data = pd.read_csv('/Users/katush/Documents/Otus/ML/L05-LinearReg/new-york-city-airbnb-open-data/AB_NYC_2019.csv')\n",
    "skip = ['id', 'name', 'host_id', 'host_name', 'last_review']\n",
    "data.drop(skip, axis=1, inplace=True)"
   ]
  },
  {
   "cell_type": "code",
   "execution_count": 641,
   "metadata": {},
   "outputs": [
    {
     "name": "stdout",
     "output_type": "stream",
     "text": [
      "(11, 11)\n"
     ]
    }
   ],
   "source": [
    "print(data[data['price']==0].shape)\n",
    "data = data[data['price']!=0]"
   ]
  },
  {
   "cell_type": "code",
   "execution_count": 642,
   "metadata": {},
   "outputs": [
    {
     "data": {
      "image/png": "[encoded data removed]",
      "text/plain": [
       "<Figure size 720x216 with 3 Axes>"
      ]
     },
     "metadata": {
      "needs_background": "light"
     },
     "output_type": "display_data"
    }
   ],
   "source": [
    "fig = plt.figure(figsize=(10, 3))\n",
    "\n",
    "plt.subplot(131)\n",
    "sns.distplot(data['price'])\n",
    "plt.title('price')\n",
    "\n",
    "plt.subplot(132)\n",
    "sns.distplot(data.price, bins=350)\n",
    "plt.xlim((0, 600))\n",
    "plt.title('zoomed price')\n",
    "\n",
    "plt.subplot(133)\n",
    "sns.distplot(np.log(data['price']))\n",
    "plt.title('log(price)')\n",
    "\n",
    "plt.tight_layout()\n",
    "\n",
    "log_cols = ['price']"
   ]
  },
  {
   "cell_type": "code",
   "execution_count": 643,
   "metadata": {},
   "outputs": [],
   "source": [
    "cpark = (40.7851, -73.9683)\n",
    "data['center_distance'] = np.sqrt((data['latitude'] - cpark[0])**2 + (data['longitude'] - cpark[1])**2)\n",
    "data.drop(['latitude', 'longitude'], axis=1, inplace=True)\n",
    "features = [i for i in data.columns if i != 'price']"
   ]
  },
  {
   "cell_type": "code",
   "execution_count": 644,
   "metadata": {},
   "outputs": [
    {
     "name": "stdout",
     "output_type": "stream",
     "text": [
      "['minimum_nights', 'number_of_reviews', 'reviews_per_month', 'calculated_host_listings_count', 'availability_365', 'center_distance']\n"
     ]
    }
   ],
   "source": [
    "num_cols = [i for i in features if data[i].dtype!='O']\n",
    "print(num_cols)"
   ]
  },
  {
   "cell_type": "code",
   "execution_count": 645,
   "metadata": {},
   "outputs": [
    {
     "data": {
      "text/html": [
       "<div>\n",
       "<style scoped>\n",
       "    .dataframe tbody tr th:only-of-type {\n",
       "        vertical-align: middle;\n",
       "    }\n",
       "\n",
       "    .dataframe tbody tr th {\n",
       "        vertical-align: top;\n",
       "    }\n",
       "\n",
       "    .dataframe thead th {\n",
       "        text-align: right;\n",
       "    }\n",
       "</style>\n",
       "<table border=\"1\" class=\"dataframe\">\n",
       "  <thead>\n",
       "    <tr style=\"text-align: right;\">\n",
       "      <th></th>\n",
       "      <th>column</th>\n",
       "      <th>nans</th>\n",
       "      <th>zeros</th>\n",
       "    </tr>\n",
       "  </thead>\n",
       "  <tbody>\n",
       "    <tr>\n",
       "      <td>0</td>\n",
       "      <td>minimum_nights</td>\n",
       "      <td>0</td>\n",
       "      <td>0</td>\n",
       "    </tr>\n",
       "    <tr>\n",
       "      <td>1</td>\n",
       "      <td>number_of_reviews</td>\n",
       "      <td>0</td>\n",
       "      <td>10051</td>\n",
       "    </tr>\n",
       "    <tr>\n",
       "      <td>2</td>\n",
       "      <td>reviews_per_month</td>\n",
       "      <td>10051</td>\n",
       "      <td>0</td>\n",
       "    </tr>\n",
       "    <tr>\n",
       "      <td>3</td>\n",
       "      <td>calculated_host_listings_count</td>\n",
       "      <td>0</td>\n",
       "      <td>0</td>\n",
       "    </tr>\n",
       "    <tr>\n",
       "      <td>4</td>\n",
       "      <td>availability_365</td>\n",
       "      <td>0</td>\n",
       "      <td>17530</td>\n",
       "    </tr>\n",
       "    <tr>\n",
       "      <td>5</td>\n",
       "      <td>center_distance</td>\n",
       "      <td>0</td>\n",
       "      <td>0</td>\n",
       "    </tr>\n",
       "  </tbody>\n",
       "</table>\n",
       "</div>"
      ],
      "text/plain": [
       "                           column   nans  zeros\n",
       "0                  minimum_nights      0      0\n",
       "1               number_of_reviews      0  10051\n",
       "2               reviews_per_month  10051      0\n",
       "3  calculated_host_listings_count      0      0\n",
       "4                availability_365      0  17530\n",
       "5                 center_distance      0      0"
      ]
     },
     "execution_count": 645,
     "metadata": {},
     "output_type": "execute_result"
    },
    {
     "data": {
      "image/png": "[encoded data removed]",
      "text/plain": [
       "<Figure size 1080x216 with 6 Axes>"
      ]
     },
     "metadata": {
      "needs_background": "light"
     },
     "output_type": "display_data"
    }
   ],
   "source": [
    "check = []\n",
    "fig = plt.figure(figsize=(15, 3))\n",
    "for ix, col in enumerate(num_cols):\n",
    "    plt.subplot(1, len(num_cols), (ix+1))\n",
    "    data[col].hist()\n",
    "    plt.title(col)\n",
    "    check.append([col, data[data[col].isna()].shape[0], data[data[col]==0].shape[0]])\n",
    "plt.tight_layout()\n",
    "check = pd.DataFrame(check, columns=['column', 'nans', 'zeros'])\n",
    "check"
   ]
  },
  {
   "cell_type": "code",
   "execution_count": 646,
   "metadata": {},
   "outputs": [
    {
     "name": "stdout",
     "output_type": "stream",
     "text": [
      "[nan]\n",
      "[0]\n"
     ]
    }
   ],
   "source": [
    "print(data[data['number_of_reviews']==0]['reviews_per_month'].unique())\n",
    "print(data[data['reviews_per_month'].isna()]['number_of_reviews'].unique())\n",
    "data['reviews_per_month'].fillna(0, inplace=True)"
   ]
  },
  {
   "cell_type": "code",
   "execution_count": 647,
   "metadata": {},
   "outputs": [],
   "source": [
    "# log_cols = log_cols + ['minimum_nights', 'calculated_host_listings_count', 'center_distance']\n",
    "log_cols = ['minimum_nights', 'calculated_host_listings_count', 'center_distance']"
   ]
  },
  {
   "cell_type": "code",
   "execution_count": 648,
   "metadata": {},
   "outputs": [
    {
     "data": {
      "image/png": "[encoded data removed]",
      "text/plain": [
       "<Figure size 1080x216 with 3 Axes>"
      ]
     },
     "metadata": {
      "needs_background": "light"
     },
     "output_type": "display_data"
    }
   ],
   "source": [
    "fig = plt.figure(figsize=(15, 3))\n",
    "for ix, col in enumerate(log_cols):\n",
    "    plt.subplot(1, len(log_cols), (ix+1))\n",
    "    np.log(data[col]).hist()\n",
    "    plt.title(col)\n",
    "plt.tight_layout()"
   ]
  },
  {
   "cell_type": "code",
   "execution_count": 649,
   "metadata": {},
   "outputs": [
    {
     "name": "stdout",
     "output_type": "stream",
     "text": [
      "max(minimum_nights) 7.1308988302963465\n",
      "max(calculated_host_listings_count) 5.7899601708972535\n",
      "max(center_distance) -0.9299768194168561\n"
     ]
    }
   ],
   "source": [
    "for i in log_cols:\n",
    "    data[i] = np.log(data[i])\n",
    "    print(f'max({i})', data[i].max())"
   ]
  },
  {
   "cell_type": "code",
   "execution_count": 650,
   "metadata": {},
   "outputs": [
    {
     "name": "stdout",
     "output_type": "stream",
     "text": [
      "['neighbourhood_group', 'neighbourhood', 'room_type']\n"
     ]
    }
   ],
   "source": [
    "obj_cols = [i for i in features if data[i].dtype=='O']\n",
    "print(obj_cols)\n",
    "\n",
    "for col in obj_cols:\n",
    "    names = dict(zip(data[col].unique(), [col+': '+i for i in data[col].unique()]))\n",
    "    data = data.join(pd.get_dummies(data[col], drop_first=True).rename(columns=names)).drop(col, axis=1)"
   ]
  },
  {
   "cell_type": "code",
   "execution_count": 636,
   "metadata": {},
   "outputs": [
    {
     "name": "stdout",
     "output_type": "stream",
     "text": [
      "['neighbourhood_group: Brooklyn', 'center_distance', 'reviews_per_month']\n"
     ]
    }
   ],
   "source": [
    "# def corr_feature_detect(data, threshold=0.8):\n",
    "    \n",
    "#     corrmat = data.drop(['price'], axis=1).corr()\n",
    "\n",
    "#     corrmat = corrmat.abs().unstack().sort_values(ascending=False)\n",
    "\n",
    "#     corrmat = corrmat[corrmat >= threshold]\n",
    "#     corrmat = corrmat[corrmat < 1]\n",
    "\n",
    "#     corrmat = pd.DataFrame(corrmat).reset_index()\n",
    "#     corrmat.columns = ['feature1', 'feature2', 'corr']\n",
    "   \n",
    "#     correlated_feats = []\n",
    "\n",
    "#     for row in corrmat.values:\n",
    "#         f1, f2, corr_value = row\n",
    "\n",
    "#         if not ((f1 in correlated_feats) | (f2 in correlated_feats)):\n",
    "#             f1_feat_len = corrmat[(corrmat.feature1==f1) | (corrmat.feature2==f1)].shape[0]\n",
    "#             f2_feat_len = corrmat[(corrmat.feature1==f2) | (corrmat.feature2==f2)].shape[0]\n",
    "\n",
    "#             if f1_feat_len >= f2_feat_len:\n",
    "#                 correlated_feats.append(f1)\n",
    "#             else:\n",
    "#                 correlated_feats.append(f2)\n",
    "    \n",
    "#     return correlated_feats\n",
    "\n",
    "# data_num_corr_features = corr_feature_detect(data, threshold=0.5)\n",
    "# print(data_num_corr_features)"
   ]
  },
  {
   "cell_type": "code",
   "execution_count": 608,
   "metadata": {},
   "outputs": [],
   "source": [
    "# data = data.drop(data_num_corr_features, axis=1)"
   ]
  },
  {
   "cell_type": "code",
   "execution_count": 651,
   "metadata": {},
   "outputs": [],
   "source": [
    "X = data.drop('price', axis=1)\n",
    "y = data['price']\n",
    "X_train, X_test, y_train, y_test = train_test_split(X, y, test_size=0.3, random_state=42)\n",
    "\n",
    "y_train_log = np.log(y_train)\n",
    "y_test_log = np.log(y_test)"
   ]
  },
  {
   "cell_type": "code",
   "execution_count": 653,
   "metadata": {},
   "outputs": [
    {
     "data": {
      "text/plain": [
       "(607.0, 629.0, 1.0, 1.0362438220757826)"
      ]
     },
     "execution_count": 653,
     "metadata": {},
     "output_type": "execute_result"
    }
   ],
   "source": [
    "scaler = MinMaxScaler()\n",
    "# scaler.fit(X_train)\n",
    "X_train_scaled = scaler.fit_transform(X_train)\n",
    "X_test_scaled = scaler.transform(X_test)\n",
    "\n",
    "X_train.max().max(), X_test.max().max(), X_train_scaled.max().max(), X_test_scaled.max().max()"
   ]
  },
  {
   "cell_type": "markdown",
   "metadata": {},
   "source": [
    "## Metrics"
   ]
  },
  {
   "attachments": {
    "image.png": {
     "image/png": "[encoded data removed]"
    }
   },
   "cell_type": "markdown",
   "metadata": {},
   "source": [
    "![image.png](attachment:image.png)"
   ]
  },
  {
   "attachments": {
    "image.png": {
     "image/png": "[encoded data removed]"
    }
   },
   "cell_type": "markdown",
   "metadata": {},
   "source": [
    "The root-mean-square deviation (RMSD) or root-mean-square error (RMSE)\n",
    "![image.png](attachment:image.png)"
   ]
  },
  {
   "attachments": {
    "image.png": {
     "image/png": "[encoded data removed]"
    }
   },
   "cell_type": "markdown",
   "metadata": {},
   "source": [
    "The coefficient of determination is the proportion of the variance in the dependent variable that is predictable from the independent variable(s)\n",
    "![image.png](attachment:image.png)"
   ]
  },
  {
   "attachments": {
    "image.png": {
     "image/png": "[encoded data removed]"
    }
   },
   "cell_type": "markdown",
   "metadata": {},
   "source": [
    "The mean absolute percentage error (MAPE), also known as mean absolute percentage deviation (MAPD), is a measure of prediction accuracy ($A_{t}$ is the actual value and $F_{t}$ is the forecast value):\n",
    "![image.png](attachment:image.png)"
   ]
  },
  {
   "cell_type": "code",
   "execution_count": 740,
   "metadata": {},
   "outputs": [],
   "source": [
    "def mean_absolute_percentage_error(y_true, y_pred): \n",
    "    y_true, y_pred = np.array(y_true), np.array(y_pred)\n",
    "    return np.mean(np.abs((y_true - y_pred) / y_true)) * 100\n",
    "\n",
    "def dataframe_metrics(y_test,y_pred):    \n",
    "    \n",
    "    stats = [\n",
    "       metrics.mean_absolute_error(y_test, y_pred),\n",
    "       np.sqrt(metrics.mean_squared_error(y_test, y_pred)),\n",
    "       metrics.r2_score(y_test, y_pred),\n",
    "       mean_absolute_percentage_error(y_test, y_pred)\n",
    "    ]\n",
    "    return stats\n",
    "measured_metrics = pd.DataFrame({\"error_type\":[\"MAE\", \"RMSE\", \"R2\", \"MAPE\"]})\n",
    "measured_metrics.set_index(\"error_type\", inplace=True)"
   ]
  },
  {
   "cell_type": "markdown",
   "metadata": {},
   "source": [
    "## Linear Regression"
   ]
  },
  {
   "cell_type": "code",
   "execution_count": 756,
   "metadata": {},
   "outputs": [],
   "source": [
    "model = LinearRegression()\n",
    "model.fit(X_train_scaled, y_train_log)\n",
    "\n",
    "y_pred_log = model.predict(X_test_scaled)\n",
    "y_pred = np.exp(y_pred_log)"
   ]
  },
  {
   "cell_type": "code",
   "execution_count": 757,
   "metadata": {},
   "outputs": [
    {
     "name": "stdout",
     "output_type": "stream",
     "text": [
      "y_pred_log vs y_pred:  4761912825.95999 inf\n",
      "y_test vs y_pred:  8000 inf \n",
      "\n",
      "(99, 93.79330406194845)\n",
      "(90, 83.3254420760469)\n",
      "(80, 142.4715494566526)\n",
      "(60, 62.42692079924835)\n",
      "(90, 91.05891150242279)\n"
     ]
    }
   ],
   "source": [
    "print('y_pred_log vs y_pred: ', y_pred_log.max(), y_pred.max())\n",
    "print('y_test vs y_pred: ', y_test.max(), y_pred.max(), '\\n')\n",
    "print(*list(zip(y_test[:5], y_preds[:5])), sep='\\n')"
   ]
  },
  {
   "cell_type": "code",
   "execution_count": null,
   "metadata": {},
   "outputs": [],
   "source": [
    "# measured_metrics[\"LinReg\"] = dataframe_metrics(y_test, y_preds)"
   ]
  },
  {
   "cell_type": "markdown",
   "metadata": {},
   "source": [
    "## RidgeCV,  LassoCV,  ElasticNetCV"
   ]
  },
  {
   "cell_type": "code",
   "execution_count": 755,
   "metadata": {},
   "outputs": [
    {
     "name": "stdout",
     "output_type": "stream",
     "text": [
      "RidgeCV \n",
      "\n",
      "y_pred_log vs y_pred:  6.259789314422965 523.1087170353018\n",
      "y_test vs y_pred:  8000 523.1087170353018 \n",
      "\n",
      "(99, 93.79330406194845)\n",
      "(90, 83.3254420760469)\n",
      "(80, 142.4715494566526)\n",
      "(60, 62.42692079924835)\n",
      "(90, 91.05891150242279)\n",
      "LassoCV \n",
      "\n",
      "y_pred_log vs y_pred:  6.251028493389005 518.5458715045187\n",
      "y_test vs y_pred:  8000 518.5458715045187 \n",
      "\n",
      "(99, 93.79330406194845)\n",
      "(90, 83.3254420760469)\n",
      "(80, 142.4715494566526)\n",
      "(60, 62.42692079924835)\n",
      "(90, 91.05891150242279)\n",
      "ElasticNetCV \n",
      "\n",
      "y_pred_log vs y_pred:  6.2134449703572905 499.41877405318155\n",
      "y_test vs y_pred:  8000 499.41877405318155 \n",
      "\n",
      "(99, 93.79330406194845)\n",
      "(90, 83.3254420760469)\n",
      "(80, 142.4715494566526)\n",
      "(60, 62.42692079924835)\n",
      "(90, 91.05891150242279)\n"
     ]
    },
    {
     "data": {
      "text/html": [
       "<div>\n",
       "<style scoped>\n",
       "    .dataframe tbody tr th:only-of-type {\n",
       "        vertical-align: middle;\n",
       "    }\n",
       "\n",
       "    .dataframe tbody tr th {\n",
       "        vertical-align: top;\n",
       "    }\n",
       "\n",
       "    .dataframe thead th {\n",
       "        text-align: right;\n",
       "    }\n",
       "</style>\n",
       "<table border=\"1\" class=\"dataframe\">\n",
       "  <thead>\n",
       "    <tr style=\"text-align: right;\">\n",
       "      <th></th>\n",
       "      <th>RidgeCV</th>\n",
       "      <th>LassoCV</th>\n",
       "      <th>ElasticNetCV</th>\n",
       "    </tr>\n",
       "    <tr>\n",
       "      <th>error_type</th>\n",
       "      <th></th>\n",
       "      <th></th>\n",
       "      <th></th>\n",
       "    </tr>\n",
       "  </thead>\n",
       "  <tbody>\n",
       "    <tr>\n",
       "      <td>MAE</td>\n",
       "      <td>58.221533</td>\n",
       "      <td>58.290856</td>\n",
       "      <td>58.280690</td>\n",
       "    </tr>\n",
       "    <tr>\n",
       "      <td>RMSE</td>\n",
       "      <td>180.728605</td>\n",
       "      <td>180.894918</td>\n",
       "      <td>180.993782</td>\n",
       "    </tr>\n",
       "    <tr>\n",
       "      <td>R2</td>\n",
       "      <td>0.144672</td>\n",
       "      <td>0.143097</td>\n",
       "      <td>0.142160</td>\n",
       "    </tr>\n",
       "    <tr>\n",
       "      <td>MAPE</td>\n",
       "      <td>34.579414</td>\n",
       "      <td>34.657918</td>\n",
       "      <td>34.655964</td>\n",
       "    </tr>\n",
       "  </tbody>\n",
       "</table>\n",
       "</div>"
      ],
      "text/plain": [
       "               RidgeCV     LassoCV  ElasticNetCV\n",
       "error_type                                      \n",
       "MAE          58.221533   58.290856     58.280690\n",
       "RMSE        180.728605  180.894918    180.993782\n",
       "R2            0.144672    0.143097      0.142160\n",
       "MAPE         34.579414   34.657918     34.655964"
      ]
     },
     "execution_count": 755,
     "metadata": {},
     "output_type": "execute_result"
    },
    {
     "data": {
      "image/png": "[encoded data removed]",
      "text/plain": [
       "<Figure size 432x288 with 1 Axes>"
      ]
     },
     "metadata": {
      "needs_background": "light"
     },
     "output_type": "display_data"
    }
   ],
   "source": [
    "algs = {'RidgeCV': RidgeCV(), 'LassoCV': LassoCV(), 'ElasticNetCV': ElasticNetCV()}\n",
    "for name, alg in algs.items():\n",
    "    model = alg\n",
    "    model.fit(X_train_scaled, y_train_log)\n",
    "\n",
    "    y_pred_log = model.predict(X_test_scaled)\n",
    "    y_pred = np.exp(y_pred_log)\n",
    "    \n",
    "    measured_metrics[name] = dataframe_metrics(y_test, y_pred)\n",
    "    \n",
    "    print(name, '\\n')\n",
    "    print('y_pred_log vs y_pred: ', y_pred_log.max(), y_pred.max())\n",
    "    print('y_test vs y_pred: ', y_test.max(), y_pred.max(), '\\n')\n",
    "    print(*list(zip(y_test[:5], y_preds[:5])), sep='\\n')\n",
    "    \n",
    "measured_metrics.plot(kind='bar')\n",
    "measured_metrics"
   ]
  },
  {
   "cell_type": "markdown",
   "metadata": {},
   "source": [
    "Без использования регуляризации линейная регрессия для предсказания выдает слишком большое значение - вероятно это связано с корреляцией в данных.\n",
    "<br><br>Если использовать регуляризацию (RidgeCV, LassoCV, ElasticNetCV), модель предсказывает более адекватные значения, причем метрики (MAE, RMSE, R2, MAPE) имеют доволльно схожие значения.\n",
    "<br><br>Таким образом предсказание цены возможно только с использованием регуляризации с качеством:\n",
    "- MAE = 58,22\n",
    "- RMSE =  180,73\n",
    "- R2 = 0,15\n",
    "- MAPE = 34,58"
   ]
  }
 ],
 "metadata": {
  "kernelspec": {
   "display_name": "Python 3",
   "language": "python",
   "name": "python3"
  },
  "language_info": {
   "codemirror_mode": {
    "name": "ipython",
    "version": 3
   },
   "file_extension": ".py",
   "mimetype": "text/x-python",
   "name": "python",
   "nbconvert_exporter": "python",
   "pygments_lexer": "ipython3",
   "version": "3.7.4"
  }
 },
 "nbformat": 4,
 "nbformat_minor": 2
}
