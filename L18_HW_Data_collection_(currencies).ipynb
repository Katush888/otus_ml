{
 "cells": [
  {
   "cell_type": "code",
   "execution_count": 1,
   "metadata": {},
   "outputs": [],
   "source": [
    "import re\n",
    "import pandas as pd\n",
    "from selenium import webdriver"
   ]
  },
  {
   "cell_type": "code",
   "execution_count": 2,
   "metadata": {},
   "outputs": [],
   "source": [
    "browser = webdriver.Chrome('C:/Users/stepanovaev9/Downloads/chromedriver_win32/chromedriver.exe')\n",
    "url = 'https://www.cbr.ru/currency_base/daily/'\n",
    "browser.get(url)\n",
    "browser.set_page_load_timeout(10)"
   ]
  },
  {
   "cell_type": "code",
   "execution_count": 3,
   "metadata": {},
   "outputs": [],
   "source": [
    "days = range(1, 32)\n",
    "monthes = range(1, 13)\n",
    "years = range(2011, 2014)"
   ]
  },
  {
   "cell_type": "code",
   "execution_count": 6,
   "metadata": {},
   "outputs": [],
   "source": [
    "currency_table = pd.DataFrame()\n",
    "passed = []\n",
    "for y in years:\n",
    "    year = str(y)\n",
    "    for m in monthes:\n",
    "        month = str(m).zfill(2)\n",
    "        for d in days:\n",
    "            day = str(d).zfill(2)\n",
    "            try:\n",
    "                url = 'https://www.cbr.ru/currency_base/daily/?date_req={}.{}.{}'.format(day, month, year)\n",
    "                browser.get(url)\n",
    "                browser.set_page_load_timeout(5)\n",
    "                \n",
    "                header = browser.find_element_by_xpath('//*[@id=\"content\"]/h2')\n",
    "                date = re.findall('\\d\\d.\\d\\d.\\d\\d\\d\\d', header.text)[0]\n",
    "    \n",
    "                table_element = browser.find_elements_by_xpath('//*[@id=\"content\"]/table')\n",
    "                text = [row.text for row in table_element][0].split('\\n')[1:]\n",
    "                df = pd.DataFrame([[i[:3] for i in text],\n",
    "                                   [i[4:7] for i in text],\n",
    "                                   [i[-7:] for i in text]]).T\n",
    "                \n",
    "                df['Дата курса'] = date\n",
    "                df['Дата'] = day+'.'+month+'.'+year\n",
    "                currency_table = pd.concat([currency_table, df], axis=0)\n",
    "                \n",
    "            except:\n",
    "                passed.append([day, month, year])\n",
    "                \n",
    "currency_table.columns = ['Числовой код валюты', 'Буквенный код валюты', 'Курс', 'Дата курса', 'Дата']\n",
    "currency_table.drop_duplicates(inplace=True)"
   ]
  },
  {
   "cell_type": "code",
   "execution_count": 9,
   "metadata": {},
   "outputs": [],
   "source": [
    "currency_table['Курс'] = currency_table['Курс'].str.replace(',', '.').apply(float)\n",
    "currency_table['Дата курса'] = pd.to_datetime(currency_table['Дата курса'], dayfirst=True)"
   ]
  },
  {
   "cell_type": "code",
   "execution_count": 25,
   "metadata": {},
   "outputs": [],
   "source": [
    "wrong_dates = []\n",
    "for i in currency_table['Дата'].unique():\n",
    "    try:\n",
    "        i = pd.to_datetime(i, dayfirst=True)\n",
    "    except:\n",
    "        wrong_dates.append(i)"
   ]
  },
  {
   "cell_type": "code",
   "execution_count": 26,
   "metadata": {},
   "outputs": [
    {
     "name": "stderr",
     "output_type": "stream",
     "text": [
      "C:\\Users\\stepanovaev9\\AppData\\Local\\Continuum\\anaconda3\\lib\\site-packages\\ipykernel_launcher.py:2: SettingWithCopyWarning: \n",
      "A value is trying to be set on a copy of a slice from a DataFrame.\n",
      "Try using .loc[row_indexer,col_indexer] = value instead\n",
      "\n",
      "See the caveats in the documentation: http://pandas.pydata.org/pandas-docs/stable/indexing.html#indexing-view-versus-copy\n",
      "  \n"
     ]
    }
   ],
   "source": [
    "currency_table = currency_table[~currency_table['Дата'].isin(wrong_dates)]\n",
    "currency_table['Дата'] = pd.to_datetime(currency_table['Дата'], dayfirst=True)"
   ]
  },
  {
   "cell_type": "code",
   "execution_count": 31,
   "metadata": {},
   "outputs": [],
   "source": [
    "currency_table.to_excel('currencies.xlsx', index=False)"
   ]
  },
  {
   "cell_type": "code",
   "execution_count": 3,
   "metadata": {},
   "outputs": [
    {
     "data": {
      "text/html": [
       "<div>\n",
       "<style scoped>\n",
       "    .dataframe tbody tr th:only-of-type {\n",
       "        vertical-align: middle;\n",
       "    }\n",
       "\n",
       "    .dataframe tbody tr th {\n",
       "        vertical-align: top;\n",
       "    }\n",
       "\n",
       "    .dataframe thead th {\n",
       "        text-align: right;\n",
       "    }\n",
       "</style>\n",
       "<table border=\"1\" class=\"dataframe\">\n",
       "  <thead>\n",
       "    <tr style=\"text-align: right;\">\n",
       "      <th></th>\n",
       "      <th>Числовой код валюты</th>\n",
       "      <th>Буквенный код валюты</th>\n",
       "      <th>Курс</th>\n",
       "      <th>Дата курса</th>\n",
       "      <th>Дата</th>\n",
       "    </tr>\n",
       "  </thead>\n",
       "  <tbody>\n",
       "    <tr>\n",
       "      <td>0</td>\n",
       "      <td>36</td>\n",
       "      <td>AUD</td>\n",
       "      <td>30.8938</td>\n",
       "      <td>2011-01-01</td>\n",
       "      <td>2011-01-01</td>\n",
       "    </tr>\n",
       "    <tr>\n",
       "      <td>1</td>\n",
       "      <td>944</td>\n",
       "      <td>AZN</td>\n",
       "      <td>37.9476</td>\n",
       "      <td>2011-01-01</td>\n",
       "      <td>2011-01-01</td>\n",
       "    </tr>\n",
       "    <tr>\n",
       "      <td>2</td>\n",
       "      <td>51</td>\n",
       "      <td>AMD</td>\n",
       "      <td>83.7833</td>\n",
       "      <td>2011-01-01</td>\n",
       "      <td>2011-01-01</td>\n",
       "    </tr>\n",
       "    <tr>\n",
       "      <td>3</td>\n",
       "      <td>974</td>\n",
       "      <td>BYR</td>\n",
       "      <td>10.1135</td>\n",
       "      <td>2011-01-01</td>\n",
       "      <td>2011-01-01</td>\n",
       "    </tr>\n",
       "    <tr>\n",
       "      <td>4</td>\n",
       "      <td>975</td>\n",
       "      <td>BGN</td>\n",
       "      <td>20.7015</td>\n",
       "      <td>2011-01-01</td>\n",
       "      <td>2011-01-01</td>\n",
       "    </tr>\n",
       "  </tbody>\n",
       "</table>\n",
       "</div>"
      ],
      "text/plain": [
       "   Числовой код валюты Буквенный код валюты     Курс Дата курса       Дата\n",
       "0                   36                  AUD  30.8938 2011-01-01 2011-01-01\n",
       "1                  944                  AZN  37.9476 2011-01-01 2011-01-01\n",
       "2                   51                  AMD  83.7833 2011-01-01 2011-01-01\n",
       "3                  974                  BYR  10.1135 2011-01-01 2011-01-01\n",
       "4                  975                  BGN  20.7015 2011-01-01 2011-01-01"
      ]
     },
     "execution_count": 3,
     "metadata": {},
     "output_type": "execute_result"
    }
   ],
   "source": [
    "currency_table.head()"
   ]
  },
  {
   "cell_type": "code",
   "execution_count": 4,
   "metadata": {},
   "outputs": [
    {
     "data": {
      "text/plain": [
       "(38374, 5)"
      ]
     },
     "execution_count": 4,
     "metadata": {},
     "output_type": "execute_result"
    }
   ],
   "source": [
    "currency_table.shape"
   ]
  },
  {
   "cell_type": "code",
   "execution_count": 7,
   "metadata": {},
   "outputs": [
    {
     "data": {
      "text/plain": [
       "(Timestamp('2011-01-01 00:00:00'), Timestamp('2013-12-31 00:00:00'))"
      ]
     },
     "execution_count": 7,
     "metadata": {},
     "output_type": "execute_result"
    }
   ],
   "source": [
    "currency_table['Дата'].min(), currency_table['Дата'].max()"
   ]
  },
  {
   "cell_type": "code",
   "execution_count": 5,
   "metadata": {},
   "outputs": [
    {
     "data": {
      "text/plain": [
       "36"
      ]
     },
     "execution_count": 5,
     "metadata": {},
     "output_type": "execute_result"
    }
   ],
   "source": [
    "currency_table['Буквенный код валюты'].nunique()"
   ]
  }
 ],
 "metadata": {
  "kernelspec": {
   "display_name": "Python 3",
   "language": "python",
   "name": "python3"
  },
  "language_info": {
   "codemirror_mode": {
    "name": "ipython",
    "version": 3
   },
   "file_extension": ".py",
   "mimetype": "text/x-python",
   "name": "python",
   "nbconvert_exporter": "python",
   "pygments_lexer": "ipython3",
   "version": "3.7.4"
  }
 },
 "nbformat": 4,
 "nbformat_minor": 2
}
