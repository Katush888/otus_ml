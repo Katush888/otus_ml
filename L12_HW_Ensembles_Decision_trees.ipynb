{
 "cells": [
  {
   "cell_type": "markdown",
   "metadata": {},
   "source": [
    "Домашнее задание\n",
    "<br>Построение и настройка модели случайного леса. Визуализация важности признаков.\n",
    "<br>Цель: использовать следующий датасет: https://archive.ics.uci.edu/ml/datasets/Car+Evaluation"
   ]
  },
  {
   "cell_type": "code",
   "execution_count": 1,
   "metadata": {},
   "outputs": [],
   "source": [
    "import pandas as pd\n",
    "import numpy as np\n",
    "import os, re\n",
    "\n",
    "import matplotlib.pyplot as plt\n",
    "%matplotlib inline\n",
    "\n",
    "from sklearn.ensemble import RandomForestClassifier\n",
    "from sklearn.model_selection import GridSearchCV, train_test_split\n",
    "from sklearn.metrics import confusion_matrix, classification_report"
   ]
  },
  {
   "cell_type": "markdown",
   "metadata": {},
   "source": [
    "# Preprocessing"
   ]
  },
  {
   "cell_type": "code",
   "execution_count": 7,
   "metadata": {},
   "outputs": [
    {
     "data": {
      "text/plain": [
       "['.DS_Store', 'car.data', 'car.names', 'car.c45-names']"
      ]
     },
     "execution_count": 7,
     "metadata": {},
     "output_type": "execute_result"
    }
   ],
   "source": [
    "data_path = '/Users/katush/Documents/Otus/ML/L12-Ensembles/Car Evaluation Data Set/'\n",
    "os.listdir(data_path)"
   ]
  },
  {
   "cell_type": "code",
   "execution_count": 49,
   "metadata": {},
   "outputs": [],
   "source": [
    "data = pd.read_csv(data_path+'car.data', header=None)\n",
    "data.columns= ['buying', 'maint', 'doors', 'persons', 'lug_boot', 'safety', 'class']"
   ]
  },
  {
   "cell_type": "code",
   "execution_count": 50,
   "metadata": {},
   "outputs": [
    {
     "name": "stdout",
     "output_type": "stream",
     "text": [
      "buying ['vhigh' 'high' 'med' 'low']\n",
      "maint ['vhigh' 'high' 'med' 'low']\n",
      "doors ['2' '3' '4' '5more']\n",
      "persons ['2' '4' 'more']\n",
      "lug_boot ['small' 'med' 'big']\n",
      "safety ['low' 'med' 'high']\n",
      "class ['unacc' 'acc' 'vgood' 'good']\n"
     ]
    }
   ],
   "source": [
    "for i in data.columns:\n",
    "    print(i, data[i].unique())"
   ]
  },
  {
   "cell_type": "code",
   "execution_count": 93,
   "metadata": {},
   "outputs": [],
   "source": [
    "data_map = data.copy()\n",
    "data_ohe = data.copy()"
   ]
  },
  {
   "cell_type": "code",
   "execution_count": 94,
   "metadata": {},
   "outputs": [
    {
     "name": "stdout",
     "output_type": "stream",
     "text": [
      "<class 'pandas.core.frame.DataFrame'>\n",
      "RangeIndex: 1728 entries, 0 to 1727\n",
      "Data columns (total 7 columns):\n",
      "buying      1728 non-null int64\n",
      "maint       1728 non-null int64\n",
      "doors       1728 non-null int64\n",
      "persons     1728 non-null int64\n",
      "lug_boot    1728 non-null int64\n",
      "safety      1728 non-null int64\n",
      "class       1728 non-null int64\n",
      "dtypes: int64(7)\n",
      "memory usage: 94.6 KB\n"
     ]
    }
   ],
   "source": [
    "d1 = {'vhigh':3, 'high':2, 'med':1, 'low':0}\n",
    "d2 = {'small':0, 'med':1, 'big':2}\n",
    "d3 = {'low':0, 'med':1, 'high':2}\n",
    "d4 = {'unacc':0, 'acc':1, 'vgood':2, 'good':3}\n",
    "\n",
    "data_map.buying = data_map.buying.map(d1)\n",
    "data_map.maint = data_map.maint.map(d1)\n",
    "data_map.lug_boot = data_map.lug_boot.map(d2)\n",
    "data_map.safety = data_map.safety.map(d3)\n",
    "data_map['class'] = data_map['class'].map(d4)\n",
    "data_map.doors = data_map.doors.replace('5more', 5).astype(int)\n",
    "data_map.persons = data_map.persons.replace('more', 5).astype(int)\n",
    "\n",
    "data_map.info()"
   ]
  },
  {
   "cell_type": "code",
   "execution_count": 98,
   "metadata": {},
   "outputs": [
    {
     "name": "stdout",
     "output_type": "stream",
     "text": [
      "<class 'pandas.core.frame.DataFrame'>\n",
      "RangeIndex: 1728 entries, 0 to 1727\n",
      "Data columns (total 16 columns):\n",
      "class             1728 non-null int64\n",
      "buying_low        1728 non-null uint8\n",
      "buying_med        1728 non-null uint8\n",
      "buying_vhigh      1728 non-null uint8\n",
      "maint_low         1728 non-null uint8\n",
      "maint_med         1728 non-null uint8\n",
      "maint_vhigh       1728 non-null uint8\n",
      "doors_3           1728 non-null uint8\n",
      "doors_4           1728 non-null uint8\n",
      "doors_5more       1728 non-null uint8\n",
      "persons_4         1728 non-null uint8\n",
      "persons_more      1728 non-null uint8\n",
      "lug_boot_med      1728 non-null uint8\n",
      "lug_boot_small    1728 non-null uint8\n",
      "safety_low        1728 non-null uint8\n",
      "safety_med        1728 non-null uint8\n",
      "dtypes: int64(1), uint8(15)\n",
      "memory usage: 38.9 KB\n"
     ]
    }
   ],
   "source": [
    "for i in data_ohe.columns[:-1]:\n",
    "    temp = pd.get_dummies(data_ohe[i], drop_first=True, prefix=i)\n",
    "    data_ohe = pd.concat([data_ohe.drop(i, axis=1), temp], axis=1)\n",
    "data_ohe['class'] = data_ohe['class'].map(d4)\n",
    "data_ohe.info()"
   ]
  },
  {
   "cell_type": "markdown",
   "metadata": {},
   "source": [
    "# Model selection"
   ]
  },
  {
   "cell_type": "code",
   "execution_count": 128,
   "metadata": {},
   "outputs": [],
   "source": [
    "def rndf_pred(data):\n",
    "    X = data.drop('class', axis=1)\n",
    "    y = data['class']\n",
    "    X_train, X_test, y_train, y_test = train_test_split(X, y, random_state=42)\n",
    "\n",
    "    rndfclf = RandomForestClassifier(random_state=1)\n",
    "    \n",
    "    params = {'n_estimators': [1, 10, 100, 200]}\n",
    "    \n",
    "    grid = GridSearchCV(estimator=rndfclf, param_grid=params, cv=5)\n",
    "    grid = grid.fit(X_train, y_train)\n",
    "    \n",
    "    print(grid.best_estimator_)"
   ]
  },
  {
   "cell_type": "code",
   "execution_count": 129,
   "metadata": {},
   "outputs": [
    {
     "name": "stdout",
     "output_type": "stream",
     "text": [
      "data_map\n",
      "RandomForestClassifier(bootstrap=True, class_weight=None, criterion='gini',\n",
      "                       max_depth=None, max_features='auto', max_leaf_nodes=None,\n",
      "                       min_impurity_decrease=0.0, min_impurity_split=None,\n",
      "                       min_samples_leaf=1, min_samples_split=2,\n",
      "                       min_weight_fraction_leaf=0.0, n_estimators=200,\n",
      "                       n_jobs=None, oob_score=False, random_state=1, verbose=0,\n",
      "                       warm_start=False)\n",
      "data_ohe\n",
      "RandomForestClassifier(bootstrap=True, class_weight=None, criterion='gini',\n",
      "                       max_depth=None, max_features='auto', max_leaf_nodes=None,\n",
      "                       min_impurity_decrease=0.0, min_impurity_split=None,\n",
      "                       min_samples_leaf=1, min_samples_split=2,\n",
      "                       min_weight_fraction_leaf=0.0, n_estimators=100,\n",
      "                       n_jobs=None, oob_score=False, random_state=1, verbose=0,\n",
      "                       warm_start=False)\n"
     ]
    }
   ],
   "source": [
    "print('data_map')\n",
    "rndf_pred(data_map)\n",
    "print('data_ohe')\n",
    "rndf_pred(data_ohe)"
   ]
  },
  {
   "cell_type": "markdown",
   "metadata": {},
   "source": [
    "Model on mapped data shows better results at 200 estimators, meanwhile model on OHE data - 100 estimators."
   ]
  },
  {
   "cell_type": "code",
   "execution_count": 134,
   "metadata": {},
   "outputs": [],
   "source": [
    "def rndf_pred(data, n_estimators):\n",
    "    X = data.drop('class', axis=1)\n",
    "    y = data['class']\n",
    "    X_train, X_test, y_train, y_test = train_test_split(X, y, random_state=42)\n",
    "\n",
    "    rndfclf = RandomForestClassifier(random_state=1, n_estimators=n_estimators)\n",
    "    rndfclf.fit(X_train, y_train)\n",
    "    y_pred = rndfclf.predict(X_test)\n",
    "\n",
    "    print(classification_report(y_test, y_pred))\n",
    "    return rndfclf"
   ]
  },
  {
   "cell_type": "code",
   "execution_count": 135,
   "metadata": {},
   "outputs": [
    {
     "name": "stdout",
     "output_type": "stream",
     "text": [
      "              precision    recall  f1-score   support\n",
      "\n",
      "           0       1.00      1.00      1.00       294\n",
      "           1       0.98      0.91      0.94       103\n",
      "           2       0.90      0.90      0.90        20\n",
      "           3       0.62      0.87      0.72        15\n",
      "\n",
      "    accuracy                           0.97       432\n",
      "   macro avg       0.87      0.92      0.89       432\n",
      "weighted avg       0.97      0.97      0.97       432\n",
      "\n"
     ]
    }
   ],
   "source": [
    "rndfclf_map = rndf_pred(data_map, n_estimators=200)"
   ]
  },
  {
   "cell_type": "code",
   "execution_count": 136,
   "metadata": {},
   "outputs": [
    {
     "name": "stdout",
     "output_type": "stream",
     "text": [
      "              precision    recall  f1-score   support\n",
      "\n",
      "           0       0.95      1.00      0.97       294\n",
      "           1       0.82      0.79      0.80       103\n",
      "           2       0.90      0.45      0.60        20\n",
      "           3       0.36      0.33      0.34        15\n",
      "\n",
      "    accuracy                           0.90       432\n",
      "   macro avg       0.76      0.64      0.68       432\n",
      "weighted avg       0.89      0.90      0.89       432\n",
      "\n"
     ]
    }
   ],
   "source": [
    "rndfclf_ohe = rndf_pred(data_ohe, n_estimators=100)"
   ]
  },
  {
   "cell_type": "markdown",
   "metadata": {},
   "source": [
    "Mapping integers to object columns performes better results in terms of f1-score and accuracy."
   ]
  },
  {
   "cell_type": "markdown",
   "metadata": {},
   "source": [
    "# Feature importances"
   ]
  },
  {
   "cell_type": "code",
   "execution_count": 139,
   "metadata": {},
   "outputs": [
    {
     "data": {
      "text/plain": [
       "Index(['buying', 'maint', 'doors', 'persons', 'lug_boot', 'safety'], dtype='object')"
      ]
     },
     "execution_count": 139,
     "metadata": {},
     "output_type": "execute_result"
    }
   ],
   "source": [
    "data_map.columns[:-1]"
   ]
  },
  {
   "cell_type": "code",
   "execution_count": 140,
   "metadata": {},
   "outputs": [
    {
     "name": "stdout",
     "output_type": "stream",
     "text": [
      "buying 0.15479788165468253\n",
      "maint 0.14635225938433816\n",
      "doors 0.06516365665987521\n",
      "persons 0.23566902352674565\n",
      "lug_boot 0.0906703964772284\n",
      "safety 0.30734678229713003\n"
     ]
    }
   ],
   "source": [
    "for name, score in zip(data_map.columns[:-1], rndfclf_map.feature_importances_):\n",
    "    print(name, score)"
   ]
  },
  {
   "cell_type": "code",
   "execution_count": 146,
   "metadata": {},
   "outputs": [
    {
     "data": {
      "text/plain": [
       "<BarContainer object of 6 artists>"
      ]
     },
     "execution_count": 146,
     "metadata": {},
     "output_type": "execute_result"
    },
    {
     "data": {
      "image/png": "[encoded data removed]",
      "text/plain": [
       "<Figure size 432x288 with 1 Axes>"
      ]
     },
     "metadata": {
      "needs_background": "light"
     },
     "output_type": "display_data"
    }
   ],
   "source": [
    "plt.bar(data_map.columns[:-1], rndfclf_map.feature_importances_)"
   ]
  },
  {
   "cell_type": "code",
   "execution_count": null,
   "metadata": {},
   "outputs": [],
   "source": []
  }
 ],
 "metadata": {
  "kernelspec": {
   "display_name": "Python 3",
   "language": "python",
   "name": "python3"
  },
  "language_info": {
   "codemirror_mode": {
    "name": "ipython",
    "version": 3
   },
   "file_extension": ".py",
   "mimetype": "text/x-python",
   "name": "python",
   "nbconvert_exporter": "python",
   "pygments_lexer": "ipython3",
   "version": "3.7.4"
  }
 },
 "nbformat": 4,
 "nbformat_minor": 2
}
